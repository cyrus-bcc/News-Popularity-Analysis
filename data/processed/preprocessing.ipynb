{
 "cells": [
  {
   "cell_type": "markdown",
   "id": "c32d3739",
   "metadata": {},
   "source": [
    "Data Preprocessing"
   ]
  },
  {
   "cell_type": "code",
   "execution_count": 11,
   "id": "bba16bc6",
   "metadata": {},
   "outputs": [
    {
     "name": "stdout",
     "output_type": "stream",
     "text": [
      "                                                 url  timedelta  \\\n",
      "0  http://mashable.com/2013/01/07/amazon-instant-...      731.0   \n",
      "1  http://mashable.com/2013/01/07/ap-samsung-spon...      731.0   \n",
      "2  http://mashable.com/2013/01/07/apple-40-billio...      731.0   \n",
      "3  http://mashable.com/2013/01/07/astronaut-notre...      731.0   \n",
      "4   http://mashable.com/2013/01/07/att-u-verse-apps/      731.0   \n",
      "\n",
      "   n_tokens_title  n_tokens_content  n_unique_tokens  n_non_stop_words  \\\n",
      "0            12.0             219.0         0.663594               1.0   \n",
      "1             9.0             255.0         0.604743               1.0   \n",
      "2             9.0             211.0         0.575130               1.0   \n",
      "3             9.0             531.0         0.503788               1.0   \n",
      "4            13.0            1072.0         0.415646               1.0   \n",
      "\n",
      "   n_non_stop_unique_tokens  num_hrefs  num_self_hrefs  num_imgs  ...  \\\n",
      "0                  0.815385        4.0             2.0       1.0  ...   \n",
      "1                  0.791946        3.0             1.0       1.0  ...   \n",
      "2                  0.663866        3.0             1.0       1.0  ...   \n",
      "3                  0.665635        9.0             0.0       1.0  ...   \n",
      "4                  0.540890       19.0            19.0      20.0  ...   \n",
      "\n",
      "   min_positive_polarity  max_positive_polarity  avg_negative_polarity  \\\n",
      "0               0.100000                    0.7              -0.350000   \n",
      "1               0.033333                    0.7              -0.118750   \n",
      "2               0.100000                    1.0              -0.466667   \n",
      "3               0.136364                    0.8              -0.369697   \n",
      "4               0.033333                    1.0              -0.220192   \n",
      "\n",
      "   min_negative_polarity  max_negative_polarity  title_subjectivity  \\\n",
      "0                 -0.600              -0.200000            0.500000   \n",
      "1                 -0.125              -0.100000            0.000000   \n",
      "2                 -0.800              -0.133333            0.000000   \n",
      "3                 -0.600              -0.166667            0.000000   \n",
      "4                 -0.500              -0.050000            0.454545   \n",
      "\n",
      "   title_sentiment_polarity  abs_title_subjectivity  \\\n",
      "0                 -0.187500                0.000000   \n",
      "1                  0.000000                0.500000   \n",
      "2                  0.000000                0.500000   \n",
      "3                  0.000000                0.500000   \n",
      "4                  0.136364                0.045455   \n",
      "\n",
      "   abs_title_sentiment_polarity  shares  \n",
      "0                      0.187500     593  \n",
      "1                      0.000000     711  \n",
      "2                      0.000000    1500  \n",
      "3                      0.000000    1200  \n",
      "4                      0.136364     505  \n",
      "\n",
      "[5 rows x 61 columns]\n"
     ]
    }
   ],
   "source": [
    "import pandas as pd\n",
    "import numpy as np\n",
    "\n",
    "\n",
    "df = pd.read_csv(\"../raw/OnlineNewsPopularity.csv\")\n",
    "\n",
    "# Strip extra spaces from column names\n",
    "df.columns = df.columns.str.strip()\n",
    "\n",
    "# View the first 5 rows\n",
    "print(df.head())"
   ]
  },
  {
   "cell_type": "code",
   "execution_count": null,
   "id": "1d37db2e",
   "metadata": {},
   "outputs": [],
   "source": [
    "#Drop Unnecessary Columns\n",
    "\n",
    "#url: not useful for modeling\n",
    "#timedelta: unclear value\n",
    "\n",
    "df = df.drop(columns=[\"url\", \"timedelta\"])\n"
   ]
  },
  {
   "cell_type": "code",
   "execution_count": null,
   "id": "5ec4071f",
   "metadata": {},
   "outputs": [],
   "source": [
    "#Check for Duplicates\n",
    "\n",
    "df = df.drop_duplicates()"
   ]
  },
  {
   "cell_type": "code",
   "execution_count": null,
   "id": "c3461882",
   "metadata": {},
   "outputs": [],
   "source": [
    "#Check for Missing Values\n",
    "\n",
    "missing_values = df.isnull().sum()"
   ]
  },
  {
   "cell_type": "code",
   "execution_count": null,
   "id": "9b77f564",
   "metadata": {},
   "outputs": [
    {
     "name": "stdout",
     "output_type": "stream",
     "text": [
      "count     39644.000000\n",
      "mean       3395.380184\n",
      "std       11626.950749\n",
      "min           1.000000\n",
      "25%         946.000000\n",
      "50%        1400.000000\n",
      "75%        2800.000000\n",
      "max      843300.000000\n",
      "Name: shares, dtype: float64\n"
     ]
    }
   ],
   "source": [
    "#Check Target Variable\n",
    "\n",
    "print(df[\"shares\"].describe())"
   ]
  },
  {
   "cell_type": "code",
   "execution_count": 12,
   "id": "8ba880df",
   "metadata": {},
   "outputs": [],
   "source": [
    "#Log-Transform\n",
    "df[\"log_shares\"] = np.log1p(df[\"shares\"])  \n",
    "# log(1 + shares) to handle zeros safely, makes it closer to one\n"
   ]
  },
  {
   "cell_type": "code",
   "execution_count": 13,
   "id": "afbd792e",
   "metadata": {},
   "outputs": [],
   "source": [
    "#Save Preprocessed Data\n",
    "df.to_csv(\"cleaned_data.csv\", index=False)"
   ]
  }
 ],
 "metadata": {
  "kernelspec": {
   "display_name": "Python 3",
   "language": "python",
   "name": "python3"
  },
  "language_info": {
   "codemirror_mode": {
    "name": "ipython",
    "version": 3
   },
   "file_extension": ".py",
   "mimetype": "text/x-python",
   "name": "python",
   "nbconvert_exporter": "python",
   "pygments_lexer": "ipython3",
   "version": "3.10.6"
  }
 },
 "nbformat": 4,
 "nbformat_minor": 5
}
